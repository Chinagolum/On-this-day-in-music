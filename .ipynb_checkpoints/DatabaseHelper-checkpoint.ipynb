{
 "cells": [
  {
   "cell_type": "code",
   "execution_count": 1,
   "metadata": {},
   "outputs": [],
   "source": [
    "import sqlite3 as sql\n",
    "class DatabaseHelper:\n",
    "   \n",
    "    \n",
    " \n",
    "    \n",
    "    def __init__(self): \n",
    "        self.conn = sql.connect('tutorial.db')\n",
    "        self.c = conn.cursor()\n",
    "    \n",
    "    def create_table():\n",
    "        self.c.execute('CREATE TABLE IF NOT EXISTS artistInfo(artist TEXT,album TEXT, releaseDate TEXT) ')\n",
    "    def data_entry():\n",
    "        self.c.execute(\"INSERT INTO artistInfo VALUES('Eminem','Recovery','Swag')\")\n",
    "        self.conn.commit()\n",
    "        self.conn.close()\n",
    "\n",
    "    def dynamic_data_entry(artist, album, releaseDate):\n",
    "        c.execute(\"INSERT INTO artistInfo(artist, album, releaseDate) VALUES(?,?,?)\" , artist, album, releaseDate)\n",
    "\n",
    "\n",
    "    #create_table()\n",
    "    #data_entry()\n"
   ]
  },
  {
   "cell_type": "code",
   "execution_count": null,
   "metadata": {},
   "outputs": [],
   "source": []
  },
  {
   "cell_type": "code",
   "execution_count": null,
   "metadata": {},
   "outputs": [],
   "source": []
  },
  {
   "cell_type": "code",
   "execution_count": null,
   "metadata": {},
   "outputs": [],
   "source": []
  }
 ],
 "metadata": {
  "kernelspec": {
   "display_name": "Python 3",
   "language": "python",
   "name": "python3"
  },
  "language_info": {
   "codemirror_mode": {
    "name": "ipython",
    "version": 3
   },
   "file_extension": ".py",
   "mimetype": "text/x-python",
   "name": "python",
   "nbconvert_exporter": "python",
   "pygments_lexer": "ipython3",
   "version": "3.6.4"
  }
 },
 "nbformat": 4,
 "nbformat_minor": 2
}
